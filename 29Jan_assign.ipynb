{
 "cells": [
  {
   "cell_type": "code",
   "execution_count": 1,
   "id": "23a71bca-643d-49bd-ac6f-7d6f2aff055f",
   "metadata": {},
   "outputs": [],
   "source": [
    "# Ans-1:- Guido Van Rossum developed python programming language"
   ]
  },
  {
   "cell_type": "code",
   "execution_count": 2,
   "id": "da3b132d-9f5c-4136-b246-626901b761e8",
   "metadata": {},
   "outputs": [],
   "source": [
    "# Ans-2:- Python is an interpreted programming language, supporting object-oriented, structured, and functional programming."
   ]
  },
  {
   "cell_type": "code",
   "execution_count": 3,
   "id": "9657bd9d-4886-413e-89bb-26e8d90f0027",
   "metadata": {},
   "outputs": [],
   "source": [
    "# Ans-3:- Yes, Python is case sensitive when dealing with identifiers, such as variable names, function names, and class names."
   ]
  },
  {
   "cell_type": "code",
   "execution_count": 4,
   "id": "5c91b9d1-dbb7-492b-af67-89797d12591c",
   "metadata": {},
   "outputs": [],
   "source": [
    "# Ans-4:- The correct extension for a Python file is \".py\". This is the standard file extension used for Python scripts and modules."
   ]
  },
  {
   "cell_type": "code",
   "execution_count": 5,
   "id": "b769b62b-0923-4b95-ba8b-439dcb53a413",
   "metadata": {},
   "outputs": [],
   "source": [
    "# Ans-5:- Python is both compiled as well as an interpreted language, which means when we run a python code, it is first compiled and then interpreted line by line."
   ]
  },
  {
   "cell_type": "code",
   "execution_count": 1,
   "id": "dbd07d15-37b2-4ce3-96be-e621a4a87adc",
   "metadata": {},
   "outputs": [
    {
     "data": {
      "text/plain": [
       "'1-Functions: defined using the \"def\" keyword, followed by the function name, parameters in parentheses, and a colon.\\n2-Classes: defined using the \"class\" keyword, followed by the class name and a colon.\\n3-Conditional statements: defined using the \"if\" keyword, followed by a condition and a colon.\\n4-Loops: defined using the \"for\" or \"while\" keywords, followed by a condition and a colon.'"
      ]
     },
     "execution_count": 1,
     "metadata": {},
     "output_type": "execute_result"
    }
   ],
   "source": [
    "# Ans-6:-'''In Python, the following blocks of code can be used to define various structures:\n",
    "\n",
    "'''1-Functions: defined using the \"def\" keyword, followed by the function name, parameters in parentheses, and a colon.\n",
    "2-Classes: defined using the \"class\" keyword, followed by the class name and a colon.\n",
    "3-Conditional statements: defined using the \"if\" keyword, followed by a condition and a colon.\n",
    "4-Loops: defined using the \"for\" or \"while\" keywords, followed by a condition and a colon.'''"
   ]
  },
  {
   "cell_type": "code",
   "execution_count": 2,
   "id": "24d20f78-8a71-408f-a19e-12eed02fdbc1",
   "metadata": {},
   "outputs": [],
   "source": [
    "# Ans-7:- \"#\" is used to do single line comments in python."
   ]
  },
  {
   "cell_type": "code",
   "execution_count": 4,
   "id": "7644518c-8126-46c1-a027-2ddf3b27e0ed",
   "metadata": {},
   "outputs": [],
   "source": [
    "# Ans-8:-In Python, the following functions can be used to find the version of Python you are currently working with:\n",
    "# 1(sys.version) 2(sys.version_info) 3(platform.python_version())"
   ]
  },
  {
   "cell_type": "code",
   "execution_count": 5,
   "id": "c088d01e-4f68-4986-a64c-74538ca36128",
   "metadata": {},
   "outputs": [],
   "source": [
    "# Ans-9:- Python supports the creation of anonymous functions at runtime, using a construct called \"lambda\"."
   ]
  },
  {
   "cell_type": "code",
   "execution_count": 6,
   "id": "f9012f4f-56c1-4768-92db-126ebfedbc9d",
   "metadata": {},
   "outputs": [],
   "source": [
    "# Ans-10:- PIP stands for \"Pip Installs Packages\" and is a package management system for Python. It is used to install and manage third-party packages that are not included in the standard Python library"
   ]
  },
  {
   "cell_type": "code",
   "execution_count": 1,
   "id": "77d1dd75-8eb8-4922-a411-b0a961a76c94",
   "metadata": {},
   "outputs": [],
   "source": [
    "# Ans-11:- Here are some in built functions in python-- 'print()', 'type()', 'input()', 'abs()', 'sorted()', 'len()' etc "
   ]
  },
  {
   "cell_type": "code",
   "execution_count": 2,
   "id": "f4d11bfb-8fc5-4308-af67-7035b1137173",
   "metadata": {},
   "outputs": [],
   "source": [
    "# Ans-12:-  An identifier can have a maximum length of 79 characters in Python."
   ]
  },
  {
   "cell_type": "code",
   "execution_count": 3,
   "id": "4777f3cc-26b4-4188-a474-43d7587446d6",
   "metadata": {},
   "outputs": [
    {
     "data": {
      "text/plain": [
       "' Ans-13 :- Easy to learn and use: Python has a simple and concise syntax that makes it easy for people new to programming to quickly start writing code.\\n\\nVersatile: Python is used in a wide variety of applications, including web development, scientific computing, data analysis, artificial intelligence, and more.'"
      ]
     },
     "execution_count": 3,
     "metadata": {},
     "output_type": "execute_result"
    }
   ],
   "source": [
    "''' Ans-13 :- Easy to learn and use: Python has a simple and concise syntax that makes it easy for people new to programming to quickly start writing code.\n",
    "\n",
    "Versatile: Python is used in a wide variety of applications, including web development, scientific computing, data analysis, artificial intelligence, and more.'''"
   ]
  },
  {
   "cell_type": "code",
   "execution_count": 4,
   "id": "ec86299b-6d45-4133-bcfa-760bc7927b3c",
   "metadata": {},
   "outputs": [],
   "source": [
    "# Ans-14 :- Memory in Python is managed by Python private heap space. All Python objects and data structures are located in a private heap. This private heap is taken care of by Python Interpreter itself, and a programmer doesn't have access to this private heap."
   ]
  },
  {
   "cell_type": "code",
   "execution_count": 5,
   "id": "78e8ebd9-98ca-458b-afbe-ed83052cf2d5",
   "metadata": {},
   "outputs": [
    {
     "data": {
      "text/plain": [
       "' Ans-15:- Here are the steps to install Python on Windows and set the path variables:\\n\\n1st we have to download the Python installer from the official Python website (https://www.python.org/downloads/).\\n\\nThen run the installer and follow the on-screen instructions to install Python on your computer.\\n\\nOpen the Start menu, search for \"Environment Variables\" and select \"Edit the system environment variables\".\\n\\nIn the System Properties window, click on the \"Environment Variables\" button.\\n\\nUnder \"System Variables\", scroll down and find the \"Path\" variable, then click on \"Edit\".\\n\\nIn the Edit Environment Variable window, click on \"New\" and add the path to your Python installation, usually \"C:\\\\PythonXX\\\\Scripts\", where XX is the version number of Python we have installed.\\n\\nClick OK to close all windows.\\n\\nThen we have to restart our command prompt or terminal and type \"python\" to confirm that the Python executable is in our system\\'s PATH.\\n\\nThat\\'s it! Now we can run Python from the command line or terminal on your Windows computer.'"
      ]
     },
     "execution_count": 5,
     "metadata": {},
     "output_type": "execute_result"
    }
   ],
   "source": [
    "''' Ans-15:- Here are the steps to install Python on Windows and set the path variables:\n",
    "\n",
    "1st we have to download the Python installer from the official Python website (https://www.python.org/downloads/).\n",
    "\n",
    "Then run the installer and follow the on-screen instructions to install Python on your computer.\n",
    "\n",
    "Open the Start menu, search for \"Environment Variables\" and select \"Edit the system environment variables\".\n",
    "\n",
    "In the System Properties window, click on the \"Environment Variables\" button.\n",
    "\n",
    "Under \"System Variables\", scroll down and find the \"Path\" variable, then click on \"Edit\".\n",
    "\n",
    "In the Edit Environment Variable window, click on \"New\" and add the path to your Python installation, usually \"C:\\PythonXX\\Scripts\", where XX is the version number of Python we have installed.\n",
    "\n",
    "Click OK to close all windows.\n",
    "\n",
    "Then we have to restart our command prompt or terminal and type \"python\" to confirm that the Python executable is in our system's PATH.\n",
    "\n",
    "That's it! Now we can run Python from the command line or terminal on your Windows computer.'''"
   ]
  },
  {
   "cell_type": "code",
   "execution_count": 6,
   "id": "a4474f5a-2a6f-4ee7-92c1-a47ce6c55081",
   "metadata": {},
   "outputs": [],
   "source": [
    "# Ans-16:- Indentation is mandatory in python to define the blocks of statements."
   ]
  },
  {
   "cell_type": "code",
   "execution_count": null,
   "id": "1075064c-1098-4fb1-ac3c-10052737ed30",
   "metadata": {},
   "outputs": [],
   "source": []
  }
 ],
 "metadata": {
  "kernelspec": {
   "display_name": "Python 3 (ipykernel)",
   "language": "python",
   "name": "python3"
  },
  "language_info": {
   "codemirror_mode": {
    "name": "ipython",
    "version": 3
   },
   "file_extension": ".py",
   "mimetype": "text/x-python",
   "name": "python",
   "nbconvert_exporter": "python",
   "pygments_lexer": "ipython3",
   "version": "3.10.8"
  }
 },
 "nbformat": 4,
 "nbformat_minor": 5
}
